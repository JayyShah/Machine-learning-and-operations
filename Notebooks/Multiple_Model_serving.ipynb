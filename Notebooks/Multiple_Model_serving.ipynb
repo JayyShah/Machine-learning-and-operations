{
 "cells": [
  {
   "cell_type": "markdown",
   "metadata": {},
   "source": [
    "# Host multiple models on the same Model Serving endpoint"
   ]
  },
  {
   "cell_type": "markdown",
   "metadata": {},
   "source": [
    "## Import Libraries"
   ]
  },
  {
   "cell_type": "code",
   "execution_count": null,
   "metadata": {},
   "outputs": [],
   "source": [
    "import pandas as pd\n",
    "import numpy as np\n",
    "from sklearn.model_selection import train_test_split\n",
    "from sklearn.linear_model import ElasticNet\n",
    "from sklearn import datasets\n",
    " \n",
    "# Import mlflow\n",
    "import mlflow\n",
    "from mlflow.tracking import MlflowClient\n",
    "import mlflow.sklearn\n",
    "from mlflow.models.signature import infer_signature"
   ]
  },
  {
   "cell_type": "code",
   "execution_count": null,
   "metadata": {},
   "outputs": [],
   "source": [
    "# Load Diabetes datasets\n",
    "diabetes = datasets.load_diabetes()\n",
    "diabetes_X = diabetes.data\n",
    "diabetes_y = diabetes.target\n",
    " \n",
    "# Create pandas DataFrame for sklearn ElasticNet linear_model\n",
    "diabetes_Y = np.array([diabetes_y]).transpose()\n",
    "d = np.concatenate((diabetes_X, diabetes_Y), axis=1)\n",
    "cols = diabetes.feature_names + ['progression']\n",
    "diabetes_data = pd.DataFrame(d, columns=cols)\n",
    "# Split the data into training and test sets. (0.75, 0.25) split.\n",
    "train, test = train_test_split(diabetes_data)\n",
    " \n",
    "# The predicted column is \"progression\" which is a quantitative measure of disease progression one year after baseline\n",
    "train_x = train.drop([\"progression\"], axis=1)\n",
    "test_x = test.drop([\"progression\"], axis=1)\n",
    "train_y = train[[\"progression\"]]\n",
    "test_y = test[[\"progression\"]]"
   ]
  },
  {
   "cell_type": "markdown",
   "metadata": {},
   "source": [
    "## Log and Register Multiple Models"
   ]
  },
  {
   "cell_type": "code",
   "execution_count": null,
   "metadata": {},
   "outputs": [],
   "source": [
    "models = []\n",
    "mlflow.sklearn.autolog(log_input_examples=True)\n",
    "n_models = 4\n",
    "for i in range(n_models):\n",
    "    with mlflow.start_run() as run:\n",
    "        lr = ElasticNet(alpha=0.05, l1_ratio=0.05, random_state=42)\n",
    "        model = lr.fit(train_x, train_y)\n",
    "        mv = mlflow.register_model(f'runs:/{run.info.run_id}/model', f'multimodel-serving-{i}')\n",
    "        client = MlflowClient()\n",
    "        client.transition_model_version_stage(f'multimodel-serving-{i}', mv.version, \"Production\", archive_existing_versions=True)"
   ]
  },
  {
   "cell_type": "markdown",
   "metadata": {},
   "source": [
    "## Package as a Multi-Model Pyfunc Model"
   ]
  },
  {
   "cell_type": "code",
   "execution_count": null,
   "metadata": {},
   "outputs": [],
   "source": [
    "class MultiModelPyfunc(mlflow.pyfunc.PythonModel):\n",
    "    def load_context(self, context):\n",
    "        self.models = []\n",
    "        self.n_models = 4\n",
    "        for i in range(self.n_models):\n",
    "            self.models.append(mlflow.sklearn.load_model(context.artifacts[f'model-{i}']))\n",
    "    \n",
    "    def select_model(self, model_input):\n",
    "        if not isinstance(model_input, pd.DataFrame):\n",
    "            raise ValueError(\"Sample model requires Dataframe inputs\")\n",
    "        locale = model_input[\"locale\"].iloc[0]\n",
    "        if locale == \"westus\":\n",
    "            return 0\n",
    "        elif locale == \"centralus\":\n",
    "            return 1\n",
    "        elif locale == \"eastus\":\n",
    "            return 2\n",
    "        elif locale == \"westeurope\":\n",
    "            return 3\n",
    "        else:\n",
    "            raise ValueError(\"Locale field incorrectly specified\")\n",
    "            \n",
    "    def process_input(self, model_input):\n",
    "        return model_input.drop(\"locale\", axis=1).values.reshape(1, -1)\n",
    " \n",
    "    def predict(self, context, raw_input):\n",
    "        selected_model = self.select_model(raw_input)\n",
    "        print(f'Selected model {selected_model}')\n",
    "        model = self.models[selected_model]\n",
    "        model_input = self.process_input(raw_input)\n",
    "        return model.predict(model_input)"
   ]
  },
  {
   "cell_type": "code",
   "execution_count": null,
   "metadata": {},
   "outputs": [],
   "source": [
    "n_models = 4\n",
    "paths = []\n",
    "for i in range(n_models):\n",
    "    paths.append(mlflow.artifacts.download_artifacts(f'models:/multimodel-serving-{i}/Production'))\n",
    "artifacts = {f'model-{i}': paths[i] for i in range(n_models)}"
   ]
  },
  {
   "cell_type": "code",
   "execution_count": null,
   "metadata": {},
   "outputs": [],
   "source": [
    "input_example = test_x.iloc[0]\n",
    "input_example[\"locale\"] = \"westus\"\n",
    "input_example = input_example.to_frame().transpose()"
   ]
  },
  {
   "cell_type": "code",
   "execution_count": null,
   "metadata": {},
   "outputs": [],
   "source": [
    "client = MlflowClient()\n",
    "with mlflow.start_run() as run:\n",
    "    model_info = mlflow.pyfunc.log_model(\n",
    "      \"raw-model\",\n",
    "      python_model=MultiModelPyfunc(),\n",
    "      input_example=input_example,\n",
    "      artifacts=artifacts,\n",
    "    )\n",
    "    model = mlflow.pyfunc.load_model(f'runs:/{run.info.run_id}/raw-model')\n",
    "    prediction = model.predict(input_example)\n",
    "    signature = infer_signature(input_example, prediction)\n",
    "    mlflow.pyfunc.log_model(\n",
    "        \"augmented-model\",\n",
    "        python_model=MultiModelPyfunc(),\n",
    "        artifacts=artifacts,\n",
    "        input_example=input_example,\n",
    "        signature=signature\n",
    "    )\n",
    "    mv = mlflow.register_model(f'runs:/{run.info.run_id}/augmented-model', \"multimodel-serving\")\n",
    "    client.transition_model_version_stage(f'multimodel-serving', mv.version, \"Production\", archive_existing_versions=True)"
   ]
  },
  {
   "cell_type": "markdown",
   "metadata": {},
   "source": [
    "## Load and Query the Multi-model Model"
   ]
  },
  {
   "cell_type": "code",
   "execution_count": null,
   "metadata": {},
   "outputs": [],
   "source": [
    "model_uri = 'models:/multimodel-serving/Production'\n",
    "model = mlflow.pyfunc.load_model(model_uri)"
   ]
  },
  {
   "cell_type": "code",
   "execution_count": null,
   "metadata": {},
   "outputs": [],
   "source": [
    "path = mlflow.artifacts.download_artifacts('models:/multimodel-serving/Production')\n",
    "input_example = model.metadata.load_input_example(path)\n",
    "input_example"
   ]
  },
  {
   "cell_type": "code",
   "execution_count": null,
   "metadata": {},
   "outputs": [],
   "source": [
    "model.predict(input_example)"
   ]
  }
 ],
 "metadata": {
  "language_info": {
   "name": "python"
  }
 },
 "nbformat": 4,
 "nbformat_minor": 2
}
